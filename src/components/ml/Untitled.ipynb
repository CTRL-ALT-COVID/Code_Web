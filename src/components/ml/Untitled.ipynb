{
 "cells": [
  {
   "cell_type": "code",
   "execution_count": 1,
   "metadata": {},
   "outputs": [
    {
     "name": "stdout",
     "output_type": "stream",
     "text": [
      "4420c8d6-c644-4ad5-9435-fcf14c0d2f49.webm\n"
     ]
    },
    {
     "data": {
      "text/plain": [
       "0"
      ]
     },
     "execution_count": 1,
     "metadata": {},
     "output_type": "execute_result"
    }
   ],
   "source": [
    "import subprocess\n",
    "import os\n",
    "\n",
    "files= os.listdir('./test/')\n",
    "print(files[0])\n",
    "command = \"ffmpeg -i ./test/{} -ab 160k -ac 2 -ar 44100 -vn ./test/{}.wav\".format(files[0], files[0].substr)\n",
    "\n",
    "subprocess.call(command, shell=True)"
   ]
  },
  {
   "cell_type": "code",
   "execution_count": 1,
   "metadata": {},
   "outputs": [
    {
     "data": {
      "text/plain": [
       "42339"
      ]
     },
     "execution_count": 1,
     "metadata": {},
     "output_type": "execute_result"
    }
   ],
   "source": [
    "import requests\n",
    "url = 'https://firebasestorage.googleapis.com/v0/b/crack-covid.appspot.com/o/songs%2Fsong?alt=media&token=b7549f1f-acf5-4dc3-adc1-1d9cb7d730d9'\n",
    "r = requests.get(url, allow_redirects=True)\n",
    "\n",
    "open('facebook.webm', 'wb').write(r.content)"
   ]
  },
  {
   "cell_type": "code",
   "execution_count": 4,
   "metadata": {},
   "outputs": [
    {
     "name": "stdout",
     "output_type": "stream",
     "text": [
      "{\"uname\": \"abc\", \"status\": \"safe\"}\n"
     ]
    }
   ],
   "source": [
    "import json\n",
    "dict={\"uname\":\"abc\", \"status\":\"safe\"}\n",
    "print(json.dumps(dict))\n",
    "with open(\"./result/debug\", 'w') as f:\n",
    "    f.write(json.dumps(dict))"
   ]
  }
 ],
 "metadata": {
  "kernelspec": {
   "display_name": "Python 3",
   "language": "python",
   "name": "python3"
  },
  "language_info": {
   "codemirror_mode": {
    "name": "ipython",
    "version": 3
   },
   "file_extension": ".py",
   "mimetype": "text/x-python",
   "name": "python",
   "nbconvert_exporter": "python",
   "pygments_lexer": "ipython3",
   "version": "3.7.3"
  }
 },
 "nbformat": 4,
 "nbformat_minor": 4
}
